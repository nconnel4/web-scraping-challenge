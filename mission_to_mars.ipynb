{
 "cells": [
  {
   "cell_type": "code",
   "execution_count": 1,
   "metadata": {
    "collapsed": true
   },
   "outputs": [],
   "source": [
    "# imports\n",
    "from splinter import Browser\n",
    "from bs4 import BeautifulSoup as Soup\n",
    "import pandas as pd\n",
    "from webdriver_manager.chrome import ChromeDriverManager"
   ]
  },
  {
   "cell_type": "code",
   "execution_count": 2,
   "outputs": [
    {
     "name": "stderr",
     "output_type": "stream",
     "text": [
      "\n",
      "\n",
      "====== WebDriver manager ======\n",
      "Current google-chrome version is 91.0.4472\n",
      "Get LATEST driver version for 91.0.4472\n",
      "Driver [C:\\Users\\nconn\\.wdm\\drivers\\chromedriver\\win32\\91.0.4472.101\\chromedriver.exe] found in cache\n"
     ]
    }
   ],
   "source": [
    "# Setup web browser\n",
    "\n",
    "executable_path = {'executable_path': ChromeDriverManager().install()}\n",
    "browser = Browser('chrome', **executable_path, headless=True)\n"
   ],
   "metadata": {
    "collapsed": false,
    "pycharm": {
     "name": "#%%\n"
    }
   }
  },
  {
   "cell_type": "markdown",
   "source": [
    "## NASA Mars News"
   ],
   "metadata": {
    "collapsed": false,
    "pycharm": {
     "name": "#%% md\n"
    }
   }
  },
  {
   "cell_type": "code",
   "execution_count": 3,
   "outputs": [
    {
     "name": "stdout",
     "output_type": "stream",
     "text": [
      "Mars Scientists Investigate Ancient Life in Australia\n",
      "Teams with NASA's Mars 2020 and ESA's ExoMars practiced hunting for fossilized microbial life in the Australian Outback in preparation for their Red Planet missions. \n"
     ]
    }
   ],
   "source": [
    "# Connect to Nasa Mars news Site\n",
    "\n",
    "browser.visit('https://redplanetscience.com')\n",
    "html = browser.html\n",
    "\n",
    "news_soup = Soup(html, 'html.parser')\n",
    "element = news_soup.select_one('div.list_text')\n",
    "\n",
    "# Find title of most recent story\n",
    "news_title = element.find('div', class_='content_title').get_text()\n",
    "\n",
    "# Find paragraph of most recent story\n",
    "news_paragraph = element.find('div', class_='article_teaser_body').get_text()\n",
    "\n",
    "# Print results\n",
    "print(news_title)\n",
    "print(news_paragraph)"
   ],
   "metadata": {
    "collapsed": false,
    "pycharm": {
     "name": "#%%\n"
    }
   }
  },
  {
   "cell_type": "markdown",
   "source": [
    "## JPL Mars Space Images"
   ],
   "metadata": {
    "collapsed": false,
    "pycharm": {
     "name": "#%% md\n"
    }
   }
  },
  {
   "cell_type": "code",
   "execution_count": 4,
   "outputs": [
    {
     "name": "stdout",
     "output_type": "stream",
     "text": [
      "https://spaceimages-mars.com/image/featured/mars3.jpg\n"
     ]
    }
   ],
   "source": [
    "# connect to JPL site\n",
    "url = 'https://spaceimages-mars.com/'\n",
    "browser.visit(url)\n",
    "\n",
    "# click through to element\n",
    "image_element = browser.find_by_tag('button')[1]\n",
    "image_element.click()\n",
    "\n",
    "# get new elements\n",
    "html = browser.html\n",
    "image_soup = Soup(html, 'html.parser')\n",
    "\n",
    "# get image url\n",
    "imager_url = image_soup.find('img', class_='fancybox-image').get('src')\n",
    "featured_image_url = f'{url}{imager_url}'\n",
    "\n",
    "print(featured_image_url)"
   ],
   "metadata": {
    "collapsed": false,
    "pycharm": {
     "name": "#%%\n"
    }
   }
  },
  {
   "cell_type": "markdown",
   "source": [
    "## Mars Facts Table"
   ],
   "metadata": {
    "collapsed": false,
    "pycharm": {
     "name": "#%% md\n"
    }
   }
  },
  {
   "cell_type": "code",
   "execution_count": 5,
   "outputs": [
    {
     "data": {
      "text/plain": "                                    Mars            Earth\nDescription                                              \nMars - Earth Comparison             Mars            Earth\nDiameter:                       6,779 km        12,742 km\nMass:                    6.39 × 10^23 kg  5.97 × 10^24 kg\nMoons:                                 2                1\nDistance from Sun:        227,943,824 km   149,598,262 km\nLength of Year:           687 Earth days      365.24 days\nTemperature:                -87 to -5 °C      -88 to 58°C",
      "text/html": "<div>\n<style scoped>\n    .dataframe tbody tr th:only-of-type {\n        vertical-align: middle;\n    }\n\n    .dataframe tbody tr th {\n        vertical-align: top;\n    }\n\n    .dataframe thead th {\n        text-align: right;\n    }\n</style>\n<table border=\"1\" class=\"dataframe\">\n  <thead>\n    <tr style=\"text-align: right;\">\n      <th></th>\n      <th>Mars</th>\n      <th>Earth</th>\n    </tr>\n    <tr>\n      <th>Description</th>\n      <th></th>\n      <th></th>\n    </tr>\n  </thead>\n  <tbody>\n    <tr>\n      <th>Mars - Earth Comparison</th>\n      <td>Mars</td>\n      <td>Earth</td>\n    </tr>\n    <tr>\n      <th>Diameter:</th>\n      <td>6,779 km</td>\n      <td>12,742 km</td>\n    </tr>\n    <tr>\n      <th>Mass:</th>\n      <td>6.39 × 10^23 kg</td>\n      <td>5.97 × 10^24 kg</td>\n    </tr>\n    <tr>\n      <th>Moons:</th>\n      <td>2</td>\n      <td>1</td>\n    </tr>\n    <tr>\n      <th>Distance from Sun:</th>\n      <td>227,943,824 km</td>\n      <td>149,598,262 km</td>\n    </tr>\n    <tr>\n      <th>Length of Year:</th>\n      <td>687 Earth days</td>\n      <td>365.24 days</td>\n    </tr>\n    <tr>\n      <th>Temperature:</th>\n      <td>-87 to -5 °C</td>\n      <td>-88 to 58°C</td>\n    </tr>\n  </tbody>\n</table>\n</div>"
     },
     "execution_count": 5,
     "metadata": {},
     "output_type": "execute_result"
    }
   ],
   "source": [
    "# read page with pandas\n",
    "mars_df = pd.read_html('https://galaxyfacts-mars.com')[0]\n",
    "mars_df.columns = ['Description', 'Mars', 'Earth']\n",
    "mars_df.set_index('Description', inplace=True)\n",
    "\n",
    "mars_df"
   ],
   "metadata": {
    "collapsed": false,
    "pycharm": {
     "name": "#%%\n"
    }
   }
  },
  {
   "cell_type": "markdown",
   "source": [
    "## Mars Hemisphere Images"
   ],
   "metadata": {
    "collapsed": false,
    "pycharm": {
     "name": "#%% md\n"
    }
   }
  },
  {
   "cell_type": "code",
   "execution_count": 6,
   "outputs": [
    {
     "name": "stdout",
     "output_type": "stream",
     "text": [
      "[{'name': 'Cerberus Hemisphere Enhanced', 'img_url': 'https://marshemispheres.com/images/full.jpg'}, {'name': 'Schiaparelli Hemisphere Enhanced', 'img_url': 'https://marshemispheres.com/images/schiaparelli_enhanced-full.jpg'}, {'name': 'Syrtis Major Hemisphere Enhanced', 'img_url': 'https://marshemispheres.com/images/syrtis_major_enhanced-full.jpg'}, {'name': 'Valles Marineris Hemisphere Enhanced', 'img_url': 'https://marshemispheres.com/images/valles_marineris_enhanced-full.jpg'}]\n"
     ]
    }
   ],
   "source": [
    "# open page\n",
    "browser.visit('https://marshemispheres.com')\n",
    "\n",
    "# find links to hemisphere pages\n",
    "links = browser.find_by_css('a.product-item img')\n",
    "\n",
    "hemisphere_image_urls = []\n",
    "\n",
    "for link in range(len(links)):\n",
    "\n",
    "    browser.find_by_css('a.product-item img')[link].click()\n",
    "    hemisphere_name = browser.find_by_css('h2').value\n",
    "    image_url = browser.find_by_text('Sample')\n",
    "\n",
    "    hemisphere_dict = {\n",
    "        'name': hemisphere_name,\n",
    "        'img_url': image_url['href']\n",
    "    }\n",
    "\n",
    "    hemisphere_image_urls.append(hemisphere_dict)\n",
    "\n",
    "    browser.back()\n",
    "\n",
    "print(hemisphere_image_urls)"
   ],
   "metadata": {
    "collapsed": false,
    "pycharm": {
     "name": "#%%\n"
    }
   }
  }
 ],
 "metadata": {
  "kernelspec": {
   "display_name": "Python 3",
   "language": "python",
   "name": "python3"
  },
  "language_info": {
   "codemirror_mode": {
    "name": "ipython",
    "version": 2
   },
   "file_extension": ".py",
   "mimetype": "text/x-python",
   "name": "python",
   "nbconvert_exporter": "python",
   "pygments_lexer": "ipython2",
   "version": "2.7.6"
  }
 },
 "nbformat": 4,
 "nbformat_minor": 0
}